{
  "nbformat": 4,
  "nbformat_minor": 0,
  "metadata": {
    "colab": {
      "provenance": []
    },
    "kernelspec": {
      "name": "python3",
      "display_name": "Python 3"
    },
    "language_info": {
      "name": "python"
    }
  },
  "cells": [
    {
      "cell_type": "code",
      "execution_count": 2,
      "metadata": {
        "colab": {
          "base_uri": "https://localhost:8080/"
        },
        "id": "Uu0VZpP8obPG",
        "outputId": "9087a666-11a5-4bb7-b174-d594ff2fb5a2"
      },
      "outputs": [
        {
          "output_type": "stream",
          "name": "stdout",
          "text": [
            "Looking in indexes: https://pypi.org/simple, https://us-python.pkg.dev/colab-wheels/public/simple/\n",
            "Requirement already satisfied: confluent-kafka in /usr/local/lib/python3.10/dist-packages (2.1.1)\n"
          ]
        }
      ],
      "source": [
        "!pip install confluent-kafka"
      ]
    },
    {
      "cell_type": "code",
      "source": [
        "from confluent_kafka import Producer, Consumer\n"
      ],
      "metadata": {
        "id": "lsTCNA2Xoti-"
      },
      "execution_count": 3,
      "outputs": []
    },
    {
      "cell_type": "code",
      "source": [
        "broker_host=\"pkc-lzvrd.us-west4.gcp.confluent.cloud\"\n",
        "broker_api_key=\"GPTZSLOX4PMDS2ZK\"\n",
        "broker_api_secret=\"ojOwC3qCEzEBcfniST+ddVRZynkuw/xVbXQcVOBBAhmjd07Ips+Y4nFffiFg16RK\""
      ],
      "metadata": {
        "id": "oZnNM_A1pDyl"
      },
      "execution_count": 4,
      "outputs": []
    },
    {
      "cell_type": "code",
      "source": [
        "# Configure Kafka producer\n",
        "producer = Producer({\n",
        "    'bootstrap.servers': f'{broker_host}:9092',\n",
        "    'security.protocol': 'SASL_SSL',\n",
        "    'sasl.mechanisms': 'PLAIN',\n",
        "    'sasl.username': broker_api_key,\n",
        "    'sasl.password': broker_api_secret,  \n",
        "})"
      ],
      "metadata": {
        "id": "bLGNTLnMowNK"
      },
      "execution_count": 5,
      "outputs": []
    },
    {
      "cell_type": "code",
      "source": [
        "# Kafka Consumer\n",
        "\n",
        "consumer = Consumer({\n",
        "    'bootstrap.servers': f'{broker_host}:9092',\n",
        "    'security.protocol': 'SASL_SSL',\n",
        "    'sasl.mechanisms': 'PLAIN',\n",
        "    'sasl.username': broker_api_key,\n",
        "    'sasl.password': broker_api_secret,\n",
        "    'group.id': 'kafka-java-getting-started',\n",
        "    'auto.offset.reset': 'earliest'\n",
        "})"
      ],
      "metadata": {
        "id": "07KYCBL3o9ai"
      },
      "execution_count": 6,
      "outputs": []
    },
    {
      "cell_type": "code",
      "source": [
        "producer.produce('topic_0', key='key1', value='{\"transaction_id\": \"12345\",\"sender_phone_number\": \"256777123456\",\"receiver_phone_number\": \"256772987654\",\"transaction_amount\": 100000,\"transaction_time\": \"2023-04-19 12:00:00\"}')\n",
        "producer.flush()"
      ],
      "metadata": {
        "colab": {
          "base_uri": "https://localhost:8080/"
        },
        "id": "6JDO8hVbsDWg",
        "outputId": "f01b356c-b469-4bdb-a0e1-a3b6f9e409d6"
      },
      "execution_count": 7,
      "outputs": [
        {
          "output_type": "execute_result",
          "data": {
            "text/plain": [
              "0"
            ]
          },
          "metadata": {},
          "execution_count": 7
        }
      ]
    },
    {
      "cell_type": "code",
      "source": [
        "consumer.subscribe(['topic_0'])\n",
        "while True:\n",
        "    msg = consumer.poll(1.0)\n",
        "    if msg is None:\n",
        "        continue\n",
        "    if msg.error():\n",
        "        print(\"Consumer error: {}\".format(msg.error()))\n",
        "        continue\n",
        "    print('Received message: {}'.format(msg.value().decode('utf-8')))"
      ],
      "metadata": {
        "colab": {
          "base_uri": "https://localhost:8080/"
        },
        "id": "vupTVMFisWyC",
        "outputId": "59e6d93c-3ec5-4258-d9b2-be271ba1f165"
      },
      "execution_count": null,
      "outputs": [
        {
          "output_type": "stream",
          "name": "stdout",
          "text": [
            "Received message: {\"transaction_id\": \"12345\",\"sender_phone_number\": \"256777123456\",\"receiver_phone_number\": \"256772987654\",\"transaction_amount\": 100000,\"transaction_time\": \"2023-04-19 12:00:00\"}\n"
          ]
        }
      ]
    }
  ]
}